{
 "cells": [
  {
   "cell_type": "markdown",
   "metadata": {},
   "source": [
    "# ArchBERT: Bi-Modal Understanding of Neural Architectures and Natural Languages\n",
    "This notebook contains the implementation and demo of the paper ['ArchBERT: Bi-Modal Understanding of Neural Architectures and Natural Languages'](https://aclanthology.org/2023.conll-1.7/) that has been accepted to appear at the CoNLL2023 conference.\n",
    "\n",
    "\n",
    "![](https://vbdai-notebooks.obs.cn-north-4.myhuaweicloud.com/archbert/framework.png)"
   ]
  },
  {
   "cell_type": "markdown",
   "metadata": {},
   "source": [
    "### Download Code"
   ]
  },
  {
   "cell_type": "code",
   "execution_count": null,
   "metadata": {},
   "outputs": [],
   "source": [
    "!wget https://vbdai-notebooks.obs.cn-north-4.myhuaweicloud.com/archbert/code.zip\n",
    "!unzip -qo code.zip"
   ]
  },
  {
   "cell_type": "markdown",
   "metadata": {},
   "source": [
    "### Package Requirements\n",
    "- Anaconda (version 2020.07)\n",
    "- All the other requirements are listed in **environment.yml** file\n",
    "- After installing Anaconda, use the following command to create an conda environment with the required packages:"
   ]
  },
  {
   "cell_type": "code",
   "execution_count": null,
   "metadata": {},
   "outputs": [],
   "source": [
    "!conda env create -f environment.yml\n",
    "!conda activate archbert"
   ]
  },
  {
   "cell_type": "markdown",
   "metadata": {},
   "source": [
    "### AutoNet dataset generation\n",
    "The code for creating AutoNet and AutoNet-AQA train/val sets (with e.g., 100 neural architectures):"
   ]
  },
  {
   "cell_type": "code",
   "execution_count": null,
   "metadata": {},
   "outputs": [],
   "source": [
    "!python ./data/autonet_generator.py train 100 ./data/datasets/autonet default default\n",
    "!python ./data/autonet_generator.py val 100 ./data/datasets/autonet default default\n",
    "!python ./data/autonet_generator.py train 100 ./data/datasets/autonet_qa qa multi\n",
    "!python ./data/autonet_generator.py val 100 ./data/datasets/autonet_qa qa multi"
   ]
  },
  {
   "cell_type": "markdown",
   "metadata": {},
   "source": [
    "### TVHF dataset generation\n",
    "Run the following command to generate the TVHF train and validation sets.\n",
    "- path: the path to save the generated dataset\n",
    "- num_nets: the number of architectures to be generated"
   ]
  },
  {
   "cell_type": "code",
   "execution_count": null,
   "metadata": {},
   "outputs": [],
   "source": [
    "!python ./data/tvhf_dataset_generator --path=./datasets/tvhf/ --num_nets=5"
   ]
  },
  {
   "cell_type": "markdown",
   "metadata": {},
   "source": [
    "### Architecture Reasoning (AR) on TVHF\n",
    "- num_nets: the number of architectures to be evaluated"
   ]
  },
  {
   "cell_type": "code",
   "execution_count": null,
   "metadata": {},
   "outputs": [],
   "source": [
    "!python test_archbert.py\n",
    "        --task=reasoning\n",
    "        --dataset=tvhf\n",
    "        --batch_size=1\n",
    "        --layernorm\n",
    "        --cross_encoder\n",
    "        --data_dir=./data/datasets/tvhf\n",
    "        --model_dir=./pretrained-models/archbert_tvhf\n",
    "        --validate\n",
    "        --num_nets=100"
   ]
  },
  {
   "cell_type": "markdown",
   "metadata": {},
   "source": [
    "### Architecture Clone Detection (ACD) on TVHF"
   ]
  },
  {
   "cell_type": "code",
   "execution_count": null,
   "metadata": {},
   "outputs": [],
   "source": [
    "!python test_archbert.py\n",
    "        --task=na_clone_detection\n",
    "        --dataset=tvhf\n",
    "        --batch_size=1\n",
    "        --layernorm\n",
    "        --cross_encoder\n",
    "        --data_dir=./data/datasets/tvhf\n",
    "        --model_dir=./pretrained-models/archbert_tvhf\n",
    "        --validate\n",
    "        --num_nets=100"
   ]
  },
  {
   "cell_type": "markdown",
   "metadata": {},
   "source": [
    "### Architecture Captioning (AC) on AutoNET"
   ]
  },
  {
   "cell_type": "code",
   "execution_count": null,
   "metadata": {},
   "outputs": [],
   "source": [
    "!python test_archbert.py\n",
    "        --task=langdec\n",
    "        --dataset=autonet\n",
    "        --batch_size=1\n",
    "        --layernorm\n",
    "        --cross_encoder\n",
    "        --data_dir=./data/datasets/autonet\n",
    "        --model_dir=./pretrained-models/archbert_autonet_ac\n",
    "        --validate\n",
    "        --num_nets=100"
   ]
  },
  {
   "cell_type": "markdown",
   "metadata": {},
   "source": [
    "### Video demo for different downstream tasks"
   ]
  },
  {
   "cell_type": "markdown",
   "metadata": {},
   "source": [
    "#### Architectural Reasoning (AR)"
   ]
  },
  {
   "cell_type": "code",
   "execution_count": 1,
   "metadata": {},
   "outputs": [
    {
     "data": {
      "text/html": [
       "<video width=\"1280\" controls>\n",
       "    <source src=\"https://vbdai-notebooks.obs.cn-north-4.myhuaweicloud.com/archbert/demo/AR_TVHF.mp4\" type=\"video/mp4\">\n",
       "</video>\n"
      ],
      "text/plain": [
       "<IPython.core.display.HTML object>"
      ]
     },
     "metadata": {},
     "output_type": "display_data"
    }
   ],
   "source": [
    "%%HTML\n",
    "<video width=\"1280\" controls>\n",
    "    <source src=\"https://vbdai-notebooks.obs.cn-north-4.myhuaweicloud.com/archbert/demo/AR_TVHF.mp4\" type=\"video/mp4\">\n",
    "</video>"
   ]
  },
  {
   "cell_type": "markdown",
   "metadata": {},
   "source": [
    "#### Architecture Search (AS)"
   ]
  },
  {
   "cell_type": "code",
   "execution_count": 2,
   "metadata": {},
   "outputs": [
    {
     "data": {
      "text/html": [
       "<video width=\"1280\" controls>\n",
       "    <source src=\"https://vbdai-notebooks.obs.cn-north-4.myhuaweicloud.com/archbert/demo/AS_TVHF.mp4\" type=\"video/mp4\">\n",
       "</video>\n"
      ],
      "text/plain": [
       "<IPython.core.display.HTML object>"
      ]
     },
     "metadata": {},
     "output_type": "display_data"
    }
   ],
   "source": [
    "%%HTML\n",
    "<video width=\"1280\" controls>\n",
    "    <source src=\"https://vbdai-notebooks.obs.cn-north-4.myhuaweicloud.com/archbert/demo/AS_TVHF.mp4\" type=\"video/mp4\">\n",
    "</video>"
   ]
  },
  {
   "cell_type": "markdown",
   "metadata": {},
   "source": [
    "#### Architecture Clone Detection (ACD)"
   ]
  },
  {
   "cell_type": "code",
   "execution_count": 3,
   "metadata": {},
   "outputs": [
    {
     "data": {
      "text/html": [
       "<video width=\"1280\" controls>\n",
       "    <source src=\"https://vbdai-notebooks.obs.cn-north-4.myhuaweicloud.com/archbert/demo/ACD_TVHF.mp4\" type=\"video/mp4\">\n",
       "</video>\n"
      ],
      "text/plain": [
       "<IPython.core.display.HTML object>"
      ]
     },
     "metadata": {},
     "output_type": "display_data"
    }
   ],
   "source": [
    "%%HTML\n",
    "<video width=\"1280\" controls>\n",
    "    <source src=\"https://vbdai-notebooks.obs.cn-north-4.myhuaweicloud.com/archbert/demo/ACD_TVHF.mp4\" type=\"video/mp4\">\n",
    "</video>"
   ]
  },
  {
   "cell_type": "markdown",
   "metadata": {},
   "source": [
    "#### Bi-Modal Architecture Clone Detection (BACD)"
   ]
  },
  {
   "cell_type": "code",
   "execution_count": 4,
   "metadata": {},
   "outputs": [
    {
     "data": {
      "text/html": [
       "<video width=\"1280\" controls>\n",
       "    <source src=\"https://vbdai-notebooks.obs.cn-north-4.myhuaweicloud.com/archbert/demo/BACD_TVHF.mp4\" type=\"video/mp4\">\n",
       "</video>\n"
      ],
      "text/plain": [
       "<IPython.core.display.HTML object>"
      ]
     },
     "metadata": {},
     "output_type": "display_data"
    }
   ],
   "source": [
    "%%HTML\n",
    "<video width=\"1280\" controls>\n",
    "    <source src=\"https://vbdai-notebooks.obs.cn-north-4.myhuaweicloud.com/archbert/demo/BACD_TVHF.mp4\" type=\"video/mp4\">\n",
    "</video>"
   ]
  },
  {
   "cell_type": "markdown",
   "metadata": {},
   "source": [
    "#### Architecture Captioning (AC)"
   ]
  },
  {
   "cell_type": "code",
   "execution_count": 5,
   "metadata": {},
   "outputs": [
    {
     "data": {
      "text/html": [
       "<video width=\"1280\" controls>\n",
       "    <source src=\"https://vbdai-notebooks.obs.cn-north-4.myhuaweicloud.com/archbert/demo/AC_AutoNet.mp4\" type=\"video/mp4\">\n",
       "</video>\n"
      ],
      "text/plain": [
       "<IPython.core.display.HTML object>"
      ]
     },
     "metadata": {},
     "output_type": "display_data"
    }
   ],
   "source": [
    "%%HTML\n",
    "<video width=\"1280\" controls>\n",
    "    <source src=\"https://vbdai-notebooks.obs.cn-north-4.myhuaweicloud.com/archbert/demo/AC_AutoNet.mp4\" type=\"video/mp4\">\n",
    "</video>"
   ]
  },
  {
   "cell_type": "markdown",
   "metadata": {},
   "source": [
    "#### Architectural Question Answering (AQA)"
   ]
  },
  {
   "cell_type": "code",
   "execution_count": 6,
   "metadata": {},
   "outputs": [
    {
     "data": {
      "text/html": [
       "<video width=\"1280\" controls>\n",
       "    <source src=\"https://vbdai-notebooks.obs.cn-north-4.myhuaweicloud.com/archbert/demo/AQA_AutoNet.mp4\" type=\"video/mp4\">\n",
       "</video>\n"
      ],
      "text/plain": [
       "<IPython.core.display.HTML object>"
      ]
     },
     "metadata": {},
     "output_type": "display_data"
    }
   ],
   "source": [
    "%%HTML\n",
    "<video width=\"1280\" controls>\n",
    "    <source src=\"https://vbdai-notebooks.obs.cn-north-4.myhuaweicloud.com/archbert/demo/AQA_AutoNet.mp4\" type=\"video/mp4\">\n",
    "</video>"
   ]
  }
 ],
 "metadata": {
  "AIGalleryInfo": {
   "item_id": "e6a924c7-735a-4e02-a25b-4416b77b6315"
  },
  "flavorInfo": {
   "architecture": "X86_64",
   "category": "GPU"
  },
  "imageInfo": {
   "id": "e1a07296-22a8-4f05-8bc8-e936c8e54099",
   "name": "pytorch1.4-cuda10.1-cudnn7-ubuntu18.04"
  },
  "kernelspec": {
   "display_name": "python-3.7.10",
   "language": "python",
   "name": "python-3.7.10"
  },
  "language_info": {
   "codemirror_mode": {
    "name": "ipython",
    "version": 3
   },
   "file_extension": ".py",
   "mimetype": "text/x-python",
   "name": "python",
   "nbconvert_exporter": "python",
   "pygments_lexer": "ipython3",
   "version": "3.7.10"
  },
  "vscode": {
   "interpreter": {
    "hash": "5c4ba6c5f306decc411379154b951507026bd5172efa7174e59e4a1af21ad04d"
   }
  }
 },
 "nbformat": 4,
 "nbformat_minor": 4
}
